{
 "cells": [
  {
   "cell_type": "code",
   "execution_count": 3,
   "metadata": {},
   "outputs": [],
   "source": [
    "import requests\n",
    "from bs4 import BeautifulSoup as bs"
   ]
  },
  {
   "cell_type": "code",
   "execution_count": 4,
   "metadata": {},
   "outputs": [
    {
     "data": {
      "text/plain": [
       "<Response [200]>"
      ]
     },
     "execution_count": 4,
     "metadata": {},
     "output_type": "execute_result"
    }
   ],
   "source": [
    "link='https://www.amazon.in/Test-Exclusive-748/product-reviews/B07DJLVJ5M?ref_=fspcr_pl_ar_1_1805560031'\n",
    "page = requests.get(link)\n",
    "page"
   ]
  },
  {
   "cell_type": "code",
   "execution_count": 6,
   "metadata": {},
   "outputs": [],
   "source": [
    "soup = bs(page.content,'html.parser')\n"
   ]
  },
  {
   "cell_type": "code",
   "execution_count": 7,
   "metadata": {},
   "outputs": [
    {
     "data": {
      "text/plain": [
       "[<span class=\"a-profile-name\">Amazon Customer</span>,\n",
       " <span class=\"a-profile-name\">Praggya</span>,\n",
       " <span class=\"a-profile-name\">Praggya</span>,\n",
       " <span class=\"a-profile-name\">Amazon Customer</span>,\n",
       " <span class=\"a-profile-name\">Kshitij Kumar</span>,\n",
       " <span class=\"a-profile-name\">manikanta</span>,\n",
       " <span class=\"a-profile-name\">Vicky Sen</span>,\n",
       " <span class=\"a-profile-name\">Rajesh Adhikary</span>,\n",
       " <span class=\"a-profile-name\">KESH</span>,\n",
       " <span class=\"a-profile-name\">Dheeraj Malhotra</span>,\n",
       " <span class=\"a-profile-name\">Avengers</span>,\n",
       " <span class=\"a-profile-name\">Nitish Kumar</span>]"
      ]
     },
     "execution_count": 7,
     "metadata": {},
     "output_type": "execute_result"
    }
   ],
   "source": [
    "names = soup.find_all('span',class_=\"a-profile-name\")\n",
    "names"
   ]
  },
  {
   "cell_type": "code",
   "execution_count": 8,
   "metadata": {},
   "outputs": [],
   "source": [
    "cust_list = []\n",
    "for i in range(0,len(names)):\n",
    "    cust_list.append(names[i].get_text())\n",
    "    "
   ]
  },
  {
   "cell_type": "code",
   "execution_count": 9,
   "metadata": {},
   "outputs": [
    {
     "data": {
      "text/plain": [
       "'Amazon Customer'"
      ]
     },
     "execution_count": 9,
     "metadata": {},
     "output_type": "execute_result"
    }
   ],
   "source": [
    "cust_list.pop(0)"
   ]
  },
  {
   "cell_type": "code",
   "execution_count": 10,
   "metadata": {},
   "outputs": [
    {
     "data": {
      "text/plain": [
       "'Praggya'"
      ]
     },
     "execution_count": 10,
     "metadata": {},
     "output_type": "execute_result"
    }
   ],
   "source": [
    "cust_list.pop(0)"
   ]
  },
  {
   "cell_type": "code",
   "execution_count": 11,
   "metadata": {},
   "outputs": [
    {
     "data": {
      "text/plain": [
       "['Praggya',\n",
       " 'Amazon Customer',\n",
       " 'Kshitij Kumar',\n",
       " 'manikanta',\n",
       " 'Vicky Sen',\n",
       " 'Rajesh Adhikary',\n",
       " 'KESH',\n",
       " 'Dheeraj Malhotra',\n",
       " 'Avengers',\n",
       " 'Nitish Kumar']"
      ]
     },
     "execution_count": 11,
     "metadata": {},
     "output_type": "execute_result"
    }
   ],
   "source": [
    "cust_list"
   ]
  },
  {
   "cell_type": "code",
   "execution_count": 12,
   "metadata": {},
   "outputs": [
    {
     "data": {
      "text/plain": [
       "[<i class=\"a-icon a-icon-star a-star-4 review-rating\" data-hook=\"review-star-rating-view-point\"><span class=\"a-icon-alt\">4.0 out of 5 stars</span></i>,\n",
       " <i class=\"a-icon a-icon-star a-star-3 review-rating\" data-hook=\"review-star-rating-view-point\"><span class=\"a-icon-alt\">3.0 out of 5 stars</span></i>,\n",
       " <i class=\"a-icon a-icon-star a-star-3 review-rating\" data-hook=\"review-star-rating\"><span class=\"a-icon-alt\">3.0 out of 5 stars</span></i>,\n",
       " <i class=\"a-icon a-icon-star a-star-4 review-rating\" data-hook=\"review-star-rating\"><span class=\"a-icon-alt\">4.0 out of 5 stars</span></i>,\n",
       " <i class=\"a-icon a-icon-star a-star-5 review-rating\" data-hook=\"review-star-rating\"><span class=\"a-icon-alt\">5.0 out of 5 stars</span></i>,\n",
       " <i class=\"a-icon a-icon-star a-star-5 review-rating\" data-hook=\"review-star-rating\"><span class=\"a-icon-alt\">5.0 out of 5 stars</span></i>,\n",
       " <i class=\"a-icon a-icon-star a-star-1 review-rating\" data-hook=\"review-star-rating\"><span class=\"a-icon-alt\">1.0 out of 5 stars</span></i>,\n",
       " <i class=\"a-icon a-icon-star a-star-4 review-rating\" data-hook=\"review-star-rating\"><span class=\"a-icon-alt\">4.0 out of 5 stars</span></i>,\n",
       " <i class=\"a-icon a-icon-star a-star-1 review-rating\" data-hook=\"review-star-rating\"><span class=\"a-icon-alt\">1.0 out of 5 stars</span></i>,\n",
       " <i class=\"a-icon a-icon-star a-star-4 review-rating\" data-hook=\"review-star-rating\"><span class=\"a-icon-alt\">4.0 out of 5 stars</span></i>,\n",
       " <i class=\"a-icon a-icon-star a-star-5 review-rating\" data-hook=\"review-star-rating\"><span class=\"a-icon-alt\">5.0 out of 5 stars</span></i>,\n",
       " <i class=\"a-icon a-icon-star a-star-1 review-rating\" data-hook=\"review-star-rating\"><span class=\"a-icon-alt\">1.0 out of 5 stars</span></i>]"
      ]
     },
     "execution_count": 12,
     "metadata": {},
     "output_type": "execute_result"
    }
   ],
   "source": [
    "rating = soup.find_all('i',class_=\"review-rating\")\n",
    "rating"
   ]
  },
  {
   "cell_type": "code",
   "execution_count": 13,
   "metadata": {
    "scrolled": true
   },
   "outputs": [
    {
     "data": {
      "text/plain": [
       "['4.0 out of 5 stars',\n",
       " '3.0 out of 5 stars',\n",
       " '3.0 out of 5 stars',\n",
       " '4.0 out of 5 stars',\n",
       " '5.0 out of 5 stars',\n",
       " '5.0 out of 5 stars',\n",
       " '1.0 out of 5 stars',\n",
       " '4.0 out of 5 stars',\n",
       " '1.0 out of 5 stars',\n",
       " '4.0 out of 5 stars',\n",
       " '5.0 out of 5 stars',\n",
       " '1.0 out of 5 stars']"
      ]
     },
     "execution_count": 13,
     "metadata": {},
     "output_type": "execute_result"
    }
   ],
   "source": [
    "rate=[]\n",
    "for i in range(len(rating)):\n",
    "    rate.append(rating[i].get_text())\n",
    "rate"
   ]
  },
  {
   "cell_type": "code",
   "execution_count": 14,
   "metadata": {},
   "outputs": [
    {
     "data": {
      "text/plain": [
       "'4.0 out of 5 stars'"
      ]
     },
     "execution_count": 14,
     "metadata": {},
     "output_type": "execute_result"
    }
   ],
   "source": [
    "rate.pop(0)"
   ]
  },
  {
   "cell_type": "code",
   "execution_count": 15,
   "metadata": {},
   "outputs": [
    {
     "data": {
      "text/plain": [
       "'3.0 out of 5 stars'"
      ]
     },
     "execution_count": 15,
     "metadata": {},
     "output_type": "execute_result"
    }
   ],
   "source": [
    "rate.pop(0)"
   ]
  },
  {
   "cell_type": "code",
   "execution_count": 16,
   "metadata": {},
   "outputs": [
    {
     "data": {
      "text/plain": [
       "['3.0 out of 5 stars',\n",
       " '4.0 out of 5 stars',\n",
       " '5.0 out of 5 stars',\n",
       " '5.0 out of 5 stars',\n",
       " '1.0 out of 5 stars',\n",
       " '4.0 out of 5 stars',\n",
       " '1.0 out of 5 stars',\n",
       " '4.0 out of 5 stars',\n",
       " '5.0 out of 5 stars',\n",
       " '1.0 out of 5 stars']"
      ]
     },
     "execution_count": 16,
     "metadata": {},
     "output_type": "execute_result"
    }
   ],
   "source": [
    "rate"
   ]
  },
  {
   "cell_type": "code",
   "execution_count": 18,
   "metadata": {
    "scrolled": true
   },
   "outputs": [],
   "source": [
    "review = soup.find_all(\"span\",{\"data-hook\":\"review-body\"})\n"
   ]
  },
  {
   "cell_type": "code",
   "execution_count": 19,
   "metadata": {},
   "outputs": [],
   "source": [
    "reviews=[]\n",
    "for i in range(len(review)):\n",
    "    reviews.append(review[i].get_text())\n"
   ]
  },
  {
   "cell_type": "code",
   "execution_count": 20,
   "metadata": {},
   "outputs": [
    {
     "data": {
      "text/plain": [
       "[\"  After reading a lot of geeky reviews on YouTube and portals, I bought Oneplus7t. Pls, note I have been using OnePlus from last many years now so my expectations were clear. My experience with the device says that most of the reviews or unboxing things are influenced. Pls, note I have bought it with my own money unlike leading reviewers or unboxing video geeks who get it for free. So pls don't go by them blindly. Go for users reviews who bought them with their own money. So I am writing my 5 days experience with the phone.I am not a gamer or a geek. A regular user who wants to do all the office work on the phone, social media, blogging and vlogging, etc.The last OnePlus phone I was using was Oneplus 5 and was quite happy with it until it screen got broken and replacement cost was higher than the selling price of the device itself.The day it arrived from Amazon I opened it with a lot of excitement which continued till I have held it in my hands.Here are the issues:1. Weight: It weighed too much I felt like holding a brick. And it is thick. When I hold it in one hand for a few minutes I get a deep red pit in my hand (due to blood circulation).2. Camera: Then I had to go for a conference there I tried clicking pictures. Picture quality did not come out well. Still, I thought it may be light or background because of my previous experiences I could not believe it to be not good. So I continued clicking pictures which really missed detailing. As you zoom in it will make it blurred. I have clicked a magazine cover picture with my Oneplus 5 which had only 16 MP camera but pic quality was natural and good. It clicks blur pics may it has to do with image Stabilization.3. Battery:  Battery is avg. All those time I teased my iPhone or Samsung Series colleagues and friends for their battery life. Welcome to the league. This offers an avg battery life. I never carried a charger with me in previous models if I Start with 90% even after two years. But here I have to carry it even for the average usage. I m wondering what would be this phone battery life in a year or more.4. 90 Hz refresh rate is a gimmick to sell this device. It will give you fluid experience but the soon it consumes battery you will always prefer to keep it to 60hz which is an option given in the display settings. If you always stick to a desk or have a power source around you can keep it to 90hz. Not for people who are on the move most of the time. Don't fall for it.5. Sound: It's average. Phone calls are not crisp and clear. At times the caller's voice gets hazy and husky. Voice is even audible to person the person sitting next to me. Even on lower volumes. Speakers volume is loud but the sound quality is not good.6. No premium-feeling anymore. With multiple variants, it has joined the league of Samsung, Mi, Oppo, Vivo. Now they are launching 7t pro on Oct 10 again it is a disappointment for those who bought 7t on day 1. Maybe their R&D or trials have some problem here that in every two months they are launching a new device with an update to the previous faults. Like OnePlus 7 has voice receiver on one side which is right. So if you take calls or hear the phone from left you won't get a clear voice or volume. So they added receivers on both the side in this device.I am still not getting why I have spent Rs 40,000 on it. No camera quality, no battery life, no sound quality on calls, getting wounds on holding it for long.I have always recommended OnePlus devices to everyone around and had high hopes and trust on the brand that I bought it on the day of the launch but with this experience, I won't recommend OnePlus 7t to my colleagues and friends who are planning to upgrade their devices.\",\n",
       " '  Detailed review --Design - 4/5+Reduced notch+Premium glass back-Camera bumpPerformance - 5/5+Latest and greatest hardware+Smart optimisationsOS - 4.5/5+Smooth Android experience - Oxygen OSDisplay - 4.5/5+Butter smooth 90 Hz Amoled display - treat to the eyeBattery -3.5/5+Fastest charging ever seen-Less capacityCamera -4/5+Overall good output with all 3 cameras+ Amazing macro mode- Misses details and messes up with Colors sometimesAudio - 4/5+Clear and loud - quality output',\n",
       " '  Awesome experience..best in class camera... oxygen os..love',\n",
       " \"  I received One Plus 7T 2 days back. I will describe you my experience in these 2 days.Firstly, kudos to Amazon for such a quick delivery and excellent packaging.Coming to the mobile, the first impression is just amazing. Its smooth, fast and you can't come out of it.The amoeld display is stunning and camera is amazing. Battery backup is also too good. And it took me 40 min to charge from 2% to 100%.PROS:CAMERA - 4.8/5BATTERY- 5/5Display - 4.7/5Performance - 4.8/5Speed - 5/5Gaming experience- 4.8/5CONSNO Headset jack.One Plus didn't even provide 3.5mm Type C Converter either which dissapointed me.Camera design could have been made better (But I feel better compared to Apple 11 pro)Overall: 4.7/5  One Plus proves again why its the BEST MOBILE right now. Go for it.\",\n",
       " '  My first one+7t & its make me so sad. I received the ph with manufacturing defect in display. Gum came out from the edges of display. How can a consumer aspects from a reputed brand after he paying 40000/- 🤔😭😟🥺😓',\n",
       " '  This phone has great performance, good camera and ambiance. Charging is fast as per the Oneplus standards set in earlier phones. What is concerning me is the heating issue which crops up off and on. The Battery drains quickly so we have to keep it at 60Hz to longer life. Is there anyone else feeling the heating issues?',\n",
       " \"  THIS IS ONE OF THE WORST PHONE I HAVE EVER PURCHASED. PLEASE DONT BUY THIS PHONE AND PUT YOUR HARD EARNED MONEY ON STAKE. THERE ARE SO MANY CONS IN THIS PHONE. EARLIER I HAVE USED ONE PLUS 5T PHONE SO I KNEW WHAT TO EXPECT FROM THIS PHONE BUT THIS TIME I AM SO MUCH DISAPPOINTED.HERE ARE MY CONCERNS1. SCREEN RESOLUTION AND QUALITY OF THE SCREEN IS SO POOR. THERE IS GRAINS AND COLOR BANDING ISSUE IN SCREEN. IMAGES LOOKS GRAINY AND UNSHARP IN COMPARISION TO ONE PLUS 5T OR 6T. PHONE RATIO IS 20:9 SO INSTAGRAM IMAGES WILL BE IN SHOWN IN PORTRAIT MODE INSTEAD OF LANDSCAPE MODE. IMAGES ON THE SCREEN IS SO BLURRRY2. DESIGN OF THE PHONE IS MESS. SO MUCH CAMERA BULK. EVEN THE PROVIDED CASE CANNOT PROTECT IT FROM SCRATCHES. PHONE IS VERY FAT AND HAEVY. LENGTH IS ALSO TOO MUCH BECAUSE OF THE RATIO. ALSO THERE IS NO PREMIUM FEELING AFTER HOLDING THIS PHONE AS WAS WITH THE ONE PLUS 5T.3. 3.5MM JACK IS BIG OMMISSION SINCE ONE PLUS 6 PHONE. THERE IS NO BENEFIT OF REMOVING IT. THERE IS NO BIGGER BATTERY. ALSO YOU HAVE TO BUY A SEPERATE ADAPTER OR NEW BLUTOOTH EARPHONES AND BLUTOOTH EARPHONES QUALITY CAN NEVER BE AS GOOD AS WIRED EARPHONES.4. CAMERA QUALITY IS AVERAGE. NO INCREASE IN PICTURE QUALITY. 3 CAMERAS ARE ONLY FOR NAME SAKE.I WAS VERY HAPPY ONE PLUS CUSTOMER, BUT NOW I WON'T RECOMMEND THIS PHONE TO ANYONE. PLEASE DONT WASTE YOUR MONEY.\",\n",
       " '  No earphone jack',\n",
       " \"  A One plus user.Oneplus One -> Oneplus 3T -> Oneplus 7T.I don't like other android phones due it's UI, love stock android.Camara is awesomeFacing problem with notifications, don't know what at top.I was expecting great battery but its average.As i moved from 3T to 7T, I had to buy wireless headphones and was worried about this. But Bluetooth connection is also good/stable.\",\n",
       " \"  The smart Lock feature is not working on the phone. It doesn't require PIN/ fingerprint sensor sometimes. It gets unlocked by side power button which creates a big security issue. The battery back up is just pathetic. Not so great camera make is totally underserving for the kind of price OnePlus is selling this device. If option available, I would have asked for refund.\"]"
      ]
     },
     "execution_count": 20,
     "metadata": {},
     "output_type": "execute_result"
    }
   ],
   "source": [
    "reviews[:] = [views.lstrip('\\n') for views in reviews]\n",
    "reviews[:] = [views.rstrip('\\n') for views in reviews]\n",
    "reviews"
   ]
  },
  {
   "cell_type": "code",
   "execution_count": 21,
   "metadata": {},
   "outputs": [],
   "source": [
    "import pandas as pd\n",
    "dt=pd.DataFrame()"
   ]
  },
  {
   "cell_type": "code",
   "execution_count": 22,
   "metadata": {},
   "outputs": [],
   "source": [
    "dt['customer_name']=cust_list\n",
    "dt['ratings']=rate\n",
    "dt['review']=reviews\n",
    "\n"
   ]
  },
  {
   "cell_type": "code",
   "execution_count": 23,
   "metadata": {},
   "outputs": [
    {
     "data": {
      "text/html": [
       "<div>\n",
       "<style scoped>\n",
       "    .dataframe tbody tr th:only-of-type {\n",
       "        vertical-align: middle;\n",
       "    }\n",
       "\n",
       "    .dataframe tbody tr th {\n",
       "        vertical-align: top;\n",
       "    }\n",
       "\n",
       "    .dataframe thead th {\n",
       "        text-align: right;\n",
       "    }\n",
       "</style>\n",
       "<table border=\"1\" class=\"dataframe\">\n",
       "  <thead>\n",
       "    <tr style=\"text-align: right;\">\n",
       "      <th></th>\n",
       "      <th>customer_name</th>\n",
       "      <th>ratings</th>\n",
       "      <th>review</th>\n",
       "    </tr>\n",
       "  </thead>\n",
       "  <tbody>\n",
       "    <tr>\n",
       "      <th>0</th>\n",
       "      <td>Praggya</td>\n",
       "      <td>3.0 out of 5 stars</td>\n",
       "      <td>After reading a lot of geeky reviews on YouT...</td>\n",
       "    </tr>\n",
       "    <tr>\n",
       "      <th>1</th>\n",
       "      <td>Amazon Customer</td>\n",
       "      <td>4.0 out of 5 stars</td>\n",
       "      <td>Detailed review --Design - 4/5+Reduced notch...</td>\n",
       "    </tr>\n",
       "    <tr>\n",
       "      <th>2</th>\n",
       "      <td>Kshitij Kumar</td>\n",
       "      <td>5.0 out of 5 stars</td>\n",
       "      <td>Awesome experience..best in class camera... ...</td>\n",
       "    </tr>\n",
       "    <tr>\n",
       "      <th>3</th>\n",
       "      <td>manikanta</td>\n",
       "      <td>5.0 out of 5 stars</td>\n",
       "      <td>I received One Plus 7T 2 days back. I will d...</td>\n",
       "    </tr>\n",
       "    <tr>\n",
       "      <th>4</th>\n",
       "      <td>Vicky Sen</td>\n",
       "      <td>1.0 out of 5 stars</td>\n",
       "      <td>My first one+7t &amp; its make me so sad. I rece...</td>\n",
       "    </tr>\n",
       "    <tr>\n",
       "      <th>5</th>\n",
       "      <td>Rajesh Adhikary</td>\n",
       "      <td>4.0 out of 5 stars</td>\n",
       "      <td>This phone has great performance, good camer...</td>\n",
       "    </tr>\n",
       "    <tr>\n",
       "      <th>6</th>\n",
       "      <td>KESH</td>\n",
       "      <td>1.0 out of 5 stars</td>\n",
       "      <td>THIS IS ONE OF THE WORST PHONE I HAVE EVER P...</td>\n",
       "    </tr>\n",
       "    <tr>\n",
       "      <th>7</th>\n",
       "      <td>Dheeraj Malhotra</td>\n",
       "      <td>4.0 out of 5 stars</td>\n",
       "      <td>No earphone jack</td>\n",
       "    </tr>\n",
       "    <tr>\n",
       "      <th>8</th>\n",
       "      <td>Avengers</td>\n",
       "      <td>5.0 out of 5 stars</td>\n",
       "      <td>A One plus user.Oneplus One -&gt; Oneplus 3T -&gt;...</td>\n",
       "    </tr>\n",
       "    <tr>\n",
       "      <th>9</th>\n",
       "      <td>Nitish Kumar</td>\n",
       "      <td>1.0 out of 5 stars</td>\n",
       "      <td>The smart Lock feature is not working on the...</td>\n",
       "    </tr>\n",
       "  </tbody>\n",
       "</table>\n",
       "</div>"
      ],
      "text/plain": [
       "      customer_name             ratings  \\\n",
       "0           Praggya  3.0 out of 5 stars   \n",
       "1   Amazon Customer  4.0 out of 5 stars   \n",
       "2     Kshitij Kumar  5.0 out of 5 stars   \n",
       "3         manikanta  5.0 out of 5 stars   \n",
       "4         Vicky Sen  1.0 out of 5 stars   \n",
       "5   Rajesh Adhikary  4.0 out of 5 stars   \n",
       "6              KESH  1.0 out of 5 stars   \n",
       "7  Dheeraj Malhotra  4.0 out of 5 stars   \n",
       "8          Avengers  5.0 out of 5 stars   \n",
       "9      Nitish Kumar  1.0 out of 5 stars   \n",
       "\n",
       "                                              review  \n",
       "0    After reading a lot of geeky reviews on YouT...  \n",
       "1    Detailed review --Design - 4/5+Reduced notch...  \n",
       "2    Awesome experience..best in class camera... ...  \n",
       "3    I received One Plus 7T 2 days back. I will d...  \n",
       "4    My first one+7t & its make me so sad. I rece...  \n",
       "5    This phone has great performance, good camer...  \n",
       "6    THIS IS ONE OF THE WORST PHONE I HAVE EVER P...  \n",
       "7                                   No earphone jack  \n",
       "8    A One plus user.Oneplus One -> Oneplus 3T ->...  \n",
       "9    The smart Lock feature is not working on the...  "
      ]
     },
     "execution_count": 23,
     "metadata": {},
     "output_type": "execute_result"
    }
   ],
   "source": [
    "dt"
   ]
  },
  {
   "cell_type": "code",
   "execution_count": 24,
   "metadata": {},
   "outputs": [],
   "source": [
    "dt.to_csv(r'E:\\reviews.csv',index=True)"
   ]
  }
 ],
 "metadata": {
  "kernelspec": {
   "display_name": "Python 3",
   "language": "python",
   "name": "python3"
  },
  "language_info": {
   "codemirror_mode": {
    "name": "ipython",
    "version": 3
   },
   "file_extension": ".py",
   "mimetype": "text/x-python",
   "name": "python",
   "nbconvert_exporter": "python",
   "pygments_lexer": "ipython3",
   "version": "3.7.3"
  }
 },
 "nbformat": 4,
 "nbformat_minor": 2
}
